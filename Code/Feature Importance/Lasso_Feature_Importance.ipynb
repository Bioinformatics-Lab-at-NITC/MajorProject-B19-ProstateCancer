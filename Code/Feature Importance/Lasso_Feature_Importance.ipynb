{
  "nbformat": 4,
  "nbformat_minor": 0,
  "metadata": {
    "colab": {
      "provenance": []
    },
    "kernelspec": {
      "name": "python3",
      "display_name": "Python 3"
    },
    "language_info": {
      "name": "python"
    }
  },
  "cells": [
    {
      "cell_type": "markdown",
      "source": [
        "# classification model using Lasso regularization.\n",
        "\n",
        "The first function txt_csv is used to convert a text file to a csv file. The function takes two parameters, the path of the text file and the filename of the csv file to be created.\n",
        "\n",
        "Next, the converted csv file is read using Pandas and any missing values are removed.\n",
        "\n",
        "The transpose function is used to convert the rows into columns and columns into rows.\n",
        "\n",
        "The MinMaxScaler function from the scikit-learn library is used to scale the data to a range of 0 to 1.\n",
        "\n",
        "The 'sample type' column is created by extracting the last two characters from each column name and sorting the data by the 'sample type' column in descending order.\n",
        "\n",
        "The 'sample type' column is converted to binary values and the index of the data is reset.\n",
        "\n",
        "The 'X' variable is created by dropping the 'sample type' column from the data, while the 'y' variable is set as the 'sample type' column.\n",
        "\n",
        "The code uses L1 regularization (also called Lasso regularization) to select important features from the input data. "
      ],
      "metadata": {
        "id": "1pyEEFHcbw0Z"
      }
    },
    {
      "cell_type": "code",
      "source": [
        "# Import the library\n",
        "import csv\n",
        "import pandas as pd\n",
        "import numpy as np\n",
        "from sklearn.linear_model import Lasso, LogisticRegression\n",
        "from sklearn.feature_selection import SelectFromModel\n",
        "from sklearn.preprocessing import MinMaxScaler\n",
        "\n",
        "# Function to convert text file to CSV format\n",
        "# When the raw data is in txt format\n",
        "def txt_csv(path, filename):\n",
        "    # Open the text file\n",
        "    with open(path) as in_file:\n",
        "        # Remove any extra whitespace from each line\n",
        "        stripped = (line.strip() for line in in_file)\n",
        "        # Split each line using tab as delimiter and create a list of lists\n",
        "        lines = (line.split(\"\\t\") for line in stripped if line)\n",
        "        # Create a new CSV file with the given filename and write the list of lists to it\n",
        "        with open(filename+'.csv', 'w') as out_file:\n",
        "            writer = csv.writer(out_file)\n",
        "            writer.writerows(lines)\n",
        "\n",
        "# Call the txt_csv function to convert the text file to CSV\n",
        "txt_csv(\"/content/miR_norm.counts (2).csv\", 'omics')\n",
        "\n",
        "# Read the converted CSV file into a Pandas dataframe\n",
        "raw_data = pd.read_csv('omics.csv')\n",
        "\n",
        "# Drop any rows with missing values\n",
        "raw_data = raw_data.dropna()\n",
        "\n",
        "# Transpose the dataframe to make the samples the rows and the attributes the columns\n",
        "data = raw_data.transpose()\n",
        "\n",
        "# Scale the values of each attribute to be between 0 and 1 using MinMaxScaler\n",
        "# When the data is not normalized\n",
        "scaler = MinMaxScaler()\n",
        "data[list(data.columns.values)] = scaler.fit_transform(data[list(data.columns.values)])\n",
        "\n",
        "# Extract the sample types from the row names and add them as a new column in the dataframe\n",
        "sample_type = []\n",
        "column_names = data.index\n",
        "for name in column_names[:]:\n",
        "    sample_type.append(name[13:15])\n",
        "data['sample type'] = sample_type\n",
        "\n",
        "# Replace the sample type labels with 0 and 1\n",
        "data['sample type'] = data['sample type'].replace(['11'],0)\n",
        "data['sample type'] = data['sample type'].replace(['01'],1)\n",
        "\n",
        "# Reset the index and remove the column names\n",
        "data.reset_index(drop=True, inplace=True)\n",
        "data.columns.name = None\n",
        "\n",
        "# Separate the features (attributes) and target (sample type) into separate dataframes\n",
        "X = data.drop(\"sample type\",1)\n",
        "y = data[\"sample type\"] \n",
        "\n",
        "# Import the SelectFromModel class from the sklearn.feature_selection module\n",
        "sel_ = SelectFromModel(LogisticRegression(C=1, penalty='l1', solver='liblinear'))\n",
        "# Fit the SelectFromModel object to the input features X and target variable y\n",
        "sel_.fit(X, np.ravel(y,order='C'))\n",
        "# Get the support, i.e., a Boolean mask indicating which features were selected\n",
        "sel_.get_support()\n",
        "# Convert X to a Pandas DataFrame\n",
        "X = pd.DataFrame(X)\n",
        "# Get the selected features from X using the Boolean mask\n",
        "selected_feat = X.columns[(sel_.get_support())]\n",
        "\n",
        "# Print\n",
        "print('total features: {}'.format((X.shape[1])))\n",
        "print('selected features: {}'.format(len(selected_feat)))\n",
        "print('features with coefficients shrank to zero: {}'.format(np.sum(sel_.estimator_.coef_ == 0)))\n",
        "\n",
        "# Write the selected features to a CSV file called 'lasso.csv'\n",
        "pd.DataFrame(list(selected_feat)).to_csv('lasso.csv',index=False)"
      ],
      "metadata": {
        "colab": {
          "base_uri": "https://localhost:8080/"
        },
        "id": "IlytkbWRcdy0",
        "outputId": "6be5381a-c91c-46b6-9830-7be9bcefbef1"
      },
      "execution_count": 7,
      "outputs": [
        {
          "output_type": "stream",
          "name": "stdout",
          "text": [
            "total features: 1881\n",
            "selected features: 22\n",
            "features with coefficients shrank to zero: 1859\n"
          ]
        },
        {
          "output_type": "stream",
          "name": "stderr",
          "text": [
            "<ipython-input-7-0a4f40936f65>:45: PerformanceWarning: DataFrame is highly fragmented.  This is usually the result of calling `frame.insert` many times, which has poor performance.  Consider joining all columns at once using pd.concat(axis=1) instead. To get a de-fragmented frame, use `newframe = frame.copy()`\n",
            "  data['sample type'] = sample_type\n",
            "<ipython-input-7-0a4f40936f65>:56: FutureWarning: In a future version of pandas all arguments of DataFrame.drop except for the argument 'labels' will be keyword-only.\n",
            "  X = data.drop(\"sample type\",1)\n"
          ]
        }
      ]
    },
    {
      "cell_type": "code",
      "source": [],
      "metadata": {
        "id": "0CZOAFnpeofs"
      },
      "execution_count": null,
      "outputs": []
    }
  ]
}